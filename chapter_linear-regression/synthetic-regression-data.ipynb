{
  "cells": [
    {
      "cell_type": "code",
      "execution_count": null,
      "id": "91b3a9ef",
      "metadata": {
        "id": "91b3a9ef"
      },
      "outputs": [],
      "source": [
        "!pip install d2l==1.0.3\n"
      ]
    },
    {
      "cell_type": "code",
      "execution_count": null,
      "id": "b9773b7e",
      "metadata": {
        "execution": {
          "iopub.execute_input": "2023-08-18T19:36:11.561594Z",
          "iopub.status.busy": "2023-08-18T19:36:11.560983Z",
          "iopub.status.idle": "2023-08-18T19:36:15.344149Z",
          "shell.execute_reply": "2023-08-18T19:36:15.342706Z"
        },
        "origin_pos": 3,
        "tab": [
          "pytorch"
        ],
        "id": "b9773b7e"
      },
      "outputs": [],
      "source": [
        "%matplotlib inline\n",
        "import random\n",
        "import torch\n",
        "from d2l import torch as d2l"
      ]
    },
    {
      "cell_type": "code",
      "execution_count": null,
      "id": "e174e8b1",
      "metadata": {
        "execution": {
          "iopub.execute_input": "2023-08-18T19:36:15.351059Z",
          "iopub.status.busy": "2023-08-18T19:36:15.350010Z",
          "iopub.status.idle": "2023-08-18T19:36:15.358156Z",
          "shell.execute_reply": "2023-08-18T19:36:15.357035Z"
        },
        "origin_pos": 7,
        "tab": [
          "pytorch"
        ],
        "id": "e174e8b1"
      },
      "outputs": [],
      "source": [
        "class SyntheticRegressionData(d2l.DataModule):\n",
        "    \"\"\"Synthetic data for linear regression.\"\"\"\n",
        "    def __init__(self, w, b, noise=0.01, num_train=1000, num_val=1000,\n",
        "                 batch_size=32):\n",
        "        super().__init__()\n",
        "        self.save_hyperparameters()\n",
        "        n = num_train + num_val\n",
        "        self.X = torch.randn(n, len(w))\n",
        "        noise = torch.randn(n, 1) * noise\n",
        "        self.y = torch.matmul(self.X, w.reshape((-1, 1))) + b + noise"
      ]
    },
    {
      "cell_type": "code",
      "execution_count": null,
      "id": "38a83404",
      "metadata": {
        "execution": {
          "iopub.execute_input": "2023-08-18T19:36:15.362285Z",
          "iopub.status.busy": "2023-08-18T19:36:15.361503Z",
          "iopub.status.idle": "2023-08-18T19:36:15.390526Z",
          "shell.execute_reply": "2023-08-18T19:36:15.389339Z"
        },
        "origin_pos": 9,
        "tab": [
          "pytorch"
        ],
        "id": "38a83404"
      },
      "outputs": [],
      "source": [
        "data = SyntheticRegressionData(w=torch.tensor([2, -3.4]), b=4.2)"
      ]
    },
    {
      "cell_type": "code",
      "execution_count": null,
      "id": "43e267cb",
      "metadata": {
        "execution": {
          "iopub.execute_input": "2023-08-18T19:36:15.395708Z",
          "iopub.status.busy": "2023-08-18T19:36:15.394509Z",
          "iopub.status.idle": "2023-08-18T19:36:15.405078Z",
          "shell.execute_reply": "2023-08-18T19:36:15.402629Z"
        },
        "origin_pos": 11,
        "tab": [
          "pytorch"
        ],
        "id": "43e267cb",
        "outputId": "d6b402a6-e506-4f0e-de06-2c9411c717e5"
      },
      "outputs": [
        {
          "name": "stdout",
          "output_type": "stream",
          "text": [
            "features: tensor([0.9026, 1.0264]) \n",
            "label: tensor([2.5148])\n"
          ]
        }
      ],
      "source": [
        "print('features:', data.X[0],'\\nlabel:', data.y[0])"
      ]
    },
    {
      "cell_type": "code",
      "execution_count": null,
      "id": "1686e6b2",
      "metadata": {
        "execution": {
          "iopub.execute_input": "2023-08-18T19:36:15.409740Z",
          "iopub.status.busy": "2023-08-18T19:36:15.408327Z",
          "iopub.status.idle": "2023-08-18T19:36:15.417911Z",
          "shell.execute_reply": "2023-08-18T19:36:15.416944Z"
        },
        "origin_pos": 13,
        "tab": [
          "pytorch"
        ],
        "id": "1686e6b2"
      },
      "outputs": [],
      "source": [
        "@d2l.add_to_class(SyntheticRegressionData)\n",
        "def get_dataloader(self, train):\n",
        "    if train:\n",
        "        indices = list(range(0, self.num_train))\n",
        "        # The examples are read in random order\n",
        "        random.shuffle(indices)\n",
        "    else:\n",
        "        indices = list(range(self.num_train, self.num_train+self.num_val))\n",
        "    for i in range(0, len(indices), self.batch_size):\n",
        "        batch_indices = torch.tensor(indices[i: i+self.batch_size])\n",
        "        yield self.X[batch_indices], self.y[batch_indices]"
      ]
    },
    {
      "cell_type": "code",
      "execution_count": null,
      "id": "d5af1472",
      "metadata": {
        "execution": {
          "iopub.execute_input": "2023-08-18T19:36:15.424253Z",
          "iopub.status.busy": "2023-08-18T19:36:15.423639Z",
          "iopub.status.idle": "2023-08-18T19:36:15.430119Z",
          "shell.execute_reply": "2023-08-18T19:36:15.429099Z"
        },
        "origin_pos": 15,
        "tab": [
          "pytorch"
        ],
        "id": "d5af1472",
        "outputId": "d0b73030-6e71-4c0f-d9c3-3e184b407a6f"
      },
      "outputs": [
        {
          "name": "stdout",
          "output_type": "stream",
          "text": [
            "X shape: torch.Size([32, 2]) \n",
            "y shape: torch.Size([32, 1])\n"
          ]
        }
      ],
      "source": [
        "X, y = next(iter(data.train_dataloader()))\n",
        "print('X shape:', X.shape, '\\ny shape:', y.shape)"
      ]
    },
    {
      "cell_type": "code",
      "execution_count": null,
      "id": "d5ae674e",
      "metadata": {
        "execution": {
          "iopub.execute_input": "2023-08-18T19:36:15.434272Z",
          "iopub.status.busy": "2023-08-18T19:36:15.433429Z",
          "iopub.status.idle": "2023-08-18T19:36:15.441792Z",
          "shell.execute_reply": "2023-08-18T19:36:15.439267Z"
        },
        "origin_pos": 18,
        "tab": [
          "pytorch"
        ],
        "id": "d5ae674e"
      },
      "outputs": [],
      "source": [
        "@d2l.add_to_class(d2l.DataModule)\n",
        "def get_tensorloader(self, tensors, train, indices=slice(0, None)):\n",
        "    tensors = tuple(a[indices] for a in tensors)\n",
        "    dataset = torch.utils.data.TensorDataset(*tensors)\n",
        "    return torch.utils.data.DataLoader(dataset, self.batch_size,\n",
        "                                       shuffle=train)"
      ]
    },
    {
      "cell_type": "code",
      "execution_count": null,
      "id": "617242ed",
      "metadata": {
        "execution": {
          "iopub.execute_input": "2023-08-18T19:36:15.448335Z",
          "iopub.status.busy": "2023-08-18T19:36:15.447832Z",
          "iopub.status.idle": "2023-08-18T19:36:15.457888Z",
          "shell.execute_reply": "2023-08-18T19:36:15.456920Z"
        },
        "origin_pos": 19,
        "tab": [
          "pytorch"
        ],
        "id": "617242ed"
      },
      "outputs": [],
      "source": [
        "@d2l.add_to_class(SyntheticRegressionData)\n",
        "def get_dataloader(self, train):\n",
        "    i = slice(0, self.num_train) if train else slice(self.num_train, None)\n",
        "    return self.get_tensorloader((self.X, self.y), train, i)"
      ]
    },
    {
      "cell_type": "code",
      "execution_count": null,
      "id": "2f5d57c3",
      "metadata": {
        "attributes": {
          "classes": [],
          "id": "",
          "n": "4"
        },
        "execution": {
          "iopub.execute_input": "2023-08-18T19:36:15.464003Z",
          "iopub.status.busy": "2023-08-18T19:36:15.462740Z",
          "iopub.status.idle": "2023-08-18T19:36:15.474793Z",
          "shell.execute_reply": "2023-08-18T19:36:15.473623Z"
        },
        "origin_pos": 21,
        "tab": [
          "pytorch"
        ],
        "id": "2f5d57c3",
        "outputId": "b6d1e6db-5383-40a3-e866-7869ecad16c1"
      },
      "outputs": [
        {
          "name": "stdout",
          "output_type": "stream",
          "text": [
            "X shape: torch.Size([32, 2]) \n",
            "y shape: torch.Size([32, 1])\n"
          ]
        }
      ],
      "source": [
        "X, y = next(iter(data.train_dataloader()))\n",
        "print('X shape:', X.shape, '\\ny shape:', y.shape)"
      ]
    },
    {
      "cell_type": "code",
      "execution_count": null,
      "id": "790cbdfb",
      "metadata": {
        "execution": {
          "iopub.execute_input": "2023-08-18T19:36:15.479797Z",
          "iopub.status.busy": "2023-08-18T19:36:15.478884Z",
          "iopub.status.idle": "2023-08-18T19:36:15.489245Z",
          "shell.execute_reply": "2023-08-18T19:36:15.488320Z"
        },
        "origin_pos": 23,
        "tab": [
          "pytorch"
        ],
        "id": "790cbdfb",
        "outputId": "9bf74ecc-82ed-4adb-e34a-c434cf6c4b76"
      },
      "outputs": [
        {
          "data": {
            "text/plain": [
              "32"
            ]
          },
          "execution_count": 10,
          "metadata": {},
          "output_type": "execute_result"
        }
      ],
      "source": [
        "len(data.train_dataloader())"
      ]
    }
  ],
  "metadata": {
    "kernelspec": {
      "display_name": "Python 3",
      "name": "python3"
    },
    "language_info": {
      "name": "python"
    },
    "required_libs": [],
    "colab": {
      "provenance": []
    }
  },
  "nbformat": 4,
  "nbformat_minor": 5
}